{
 "cells": [
  {
   "cell_type": "markdown",
   "id": "622b84fc",
   "metadata": {},
   "source": [
    "# Pedestrian Detection\n",
    "In this mini project I will use OpenCV and Haarcascade Classifier to detect Pedestrian in a street recorded from a cctv footage."
   ]
  },
  {
   "cell_type": "code",
   "execution_count": 4,
   "id": "5caa0df4",
   "metadata": {},
   "outputs": [],
   "source": [
    "# Importing the dependencies\n",
    "import cv2\n",
    "import numpy as np\n",
    "\n",
    "# Creating our body classifier\n",
    "body_classifier = cv2.CascadeClassifier(\"Haarcascades/haarcascade_fullbody.xml\")\n",
    "\n",
    "# Initiating video capture for video file\n",
    "cap = cv2.VideoCapture(\"image_examples/walking.avi\")\n",
    "\n",
    "# Looping once video is successfully loaded\n",
    "while cap.isOpened():\n",
    "    \n",
    "    # Read first frame\n",
    "    ret, frame = cap.read()\n",
    "    \n",
    "    gray = cv2.cvtColor(frame, cv2.COLOR_BGR2GRAY)\n",
    "    \n",
    "    # Passing frame to our body classifier\n",
    "    bodies = body_classifier.detectMultiScale(gray, 1.2, 3)\n",
    "    \n",
    "    # Extracting bounding boxes for any body identified\n",
    "    for (x,y,w,h) in bodies:\n",
    "        cv2.rectangle(frame, (x,y), (x+w, y+h), (0,255,255), 2)\n",
    "        cv2.imshow(\"Pedistrians\", frame)\n",
    "        \n",
    "    if cv2.waitKey(1) == 13:  # 13 is the Enter key\n",
    "        break\n",
    "        \n",
    "cap.release()\n",
    "cv2.destroyAllWindows()"
   ]
  }
 ],
 "metadata": {
  "kernelspec": {
   "display_name": "Python 3 (ipykernel)",
   "language": "python",
   "name": "python3"
  },
  "language_info": {
   "codemirror_mode": {
    "name": "ipython",
    "version": 3
   },
   "file_extension": ".py",
   "mimetype": "text/x-python",
   "name": "python",
   "nbconvert_exporter": "python",
   "pygments_lexer": "ipython3",
   "version": "3.7.11"
  }
 },
 "nbformat": 4,
 "nbformat_minor": 5
}
